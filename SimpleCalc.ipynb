{
  "nbformat": 4,
  "nbformat_minor": 0,
  "metadata": {
    "colab": {
      "name": "SimpleCalc",
      "provenance": [],
      "collapsed_sections": [],
      "authorship_tag": "ABX9TyPzxhVcHq99ZQEOul6f5Ihi",
      "include_colab_link": true
    },
    "kernelspec": {
      "name": "python3",
      "display_name": "Python 3"
    },
    "language_info": {
      "name": "python"
    }
  },
  "cells": [
    {
      "cell_type": "markdown",
      "metadata": {
        "id": "view-in-github",
        "colab_type": "text"
      },
      "source": [
        "<a href=\"https://colab.research.google.com/github/BrendenLatham/python-practice/blob/main/SimpleCalc.ipynb\" target=\"_parent\"><img src=\"https://colab.research.google.com/assets/colab-badge.svg\" alt=\"Open In Colab\"/></a>"
      ]
    },
    {
      "cell_type": "code",
      "metadata": {
        "id": "ITuLqzcvefyN"
      },
      "source": [
        "import math\n",
        "name = input(\"Name: \")\n",
        "print(\"hello \" +name+ \"!\")\n",
        "mode = input(\"what would you like to do?: \")\n",
        "if mode == \"add\":\n",
        "  a = float(input(\"First Number: \"))\n",
        "  b = float(input(\"Second Number: \"))\n",
        "  c = a+b\n",
        "  print(\"The answer is \", c)\n",
        "elif mode == \"subtract\":\n",
        "  a = float(input(\"First Number: \"))\n",
        "  b = float(input(\"Second Number: \"))\n",
        "  c = a-b\n",
        "  print(\"The answer is \", c)\n",
        "elif mode == \"multiply\":\n",
        "  a = float(input(\"First Number: \"))\n",
        "  b = float(input(\"Second Number: \"))\n",
        "  c = a*b\n",
        "  print(\"The answer is \", c)\n",
        "elif mode == \"divide\":\n",
        "  a = float(input(\"Numerator: \"))\n",
        "  b = float(input(\"Denominator: \"))\n",
        "  if b == 0:\n",
        "    print(\"denominator cannot be 0\")\n",
        "  else:\n",
        "    c = a/b\n",
        "    print(\"The answer is \", c)\n",
        "elif mode == \"die\":\n",
        "  print(\"hey there champ, keep your chin up\")\n",
        "elif mode == \"absolute value\":\n",
        "  a = float(input(\"Number: \"))\n",
        "  if a < 0:\n",
        "    b = 2*a\n",
        "    c = a-b\n",
        "  else:\n",
        "    c = a\n",
        "  print(\"The answer is \", c)\n",
        "elif mode == \"quadratic\":\n",
        "  print(\"The quadratic formula is ax^2-bx+c\")\n",
        "  a = float(input(\"a =  \"))\n",
        "  b = float(input(\"b =  \"))\n",
        "  c = float(input(\"c =  \"))\n",
        "  x = 4*a*c\n",
        "  y = b*b-x\n",
        "  denom = 2*a\n",
        "  if y<0:\n",
        "    print(\"The first answer is \",-b/denom,\"+\",math.sqrt(abs(y))/denom,\"i\")\n",
        "    print(\"The second answer is \",-b/denom,\"-\",math.sqrt(abs(y))/denom,\"i\")\n",
        "  else:\n",
        "    print(\"The first answer is \",-b/denom,\"+\",math.sqrt(y)/denom,\"i\")\n",
        "    print(\"The second answer is \",-b/denom,\"-\",math.sqrt(y)/denom,\"i\")\n",
        "elif mode == \"hear a story\":\n",
        "  print(\"There once was a human named \"+name+\" who asked a calculator to tell it a story\")\n",
        "  print(\"It failed its math homework...\")\n",
        "  print(\"The End\")\n",
        "elif mode == \"sin\":\n",
        "  a = float(input(\"Number in radians \"))\n",
        "  print(math.sin(a))\n",
        "elif mode == \"cos\":\n",
        "  a = float(input(\"Number in radians \"))\n",
        "  print(math.cos(a))\n",
        "elif mode == \"tan\":\n",
        "  a = float(input(\"Number in radians \"))\n",
        "  print(math.tan(a))\n",
        "elif mode == \"see secret files\":\n",
        "  print(\"wow...\")\n",
        "  print(\"really?\")\n",
        "else:\n",
        "  print(\"\")\n",
        "  print(\"not a valid command\")\n",
        "  print(\"valid commands include...\")\n",
        "  print(\"add\")\n",
        "  print(\"subtract\")\n",
        "  print(\"multiply\")\n",
        "  print(\"divide\")\n",
        "  print(\"absolute value\")\n",
        "  print(\"quadratic\")\n",
        "  print(\"sin\")\n",
        "  print(\"cos\")\n",
        "  print(\"tan\")\n",
        "  print(\"hear a story\")\n",
        "  print(\"see secret files\")"
      ],
      "execution_count": 1,
      "outputs": []
    }
  ]
}